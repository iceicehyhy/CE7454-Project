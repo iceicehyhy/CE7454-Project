{
 "cells": [
  {
   "cell_type": "code",
   "execution_count": 74,
   "metadata": {},
   "outputs": [
    {
     "name": "stdout",
     "output_type": "stream",
     "text": [
      "[data_path] = ./Dataset/Testing/Origin\n",
      "[output_path] = ./Dataset/Testing/Results\n",
      "[debug] = 0\n",
      "[path] = None\n",
      "[batch_size] = 64\n",
      "[dims] = 2048\n",
      "[gpu] = \n"
     ]
    },
    {
     "name": "stderr",
     "output_type": "stream",
     "text": [
      "/home/sunchenyu1993/generative_inpainting/evaluation.py:569: UserWarning: DEPRECATED: skimage.measure.compare_psnr has been moved to skimage.metrics.peak_signal_noise_ratio. It will be removed from skimage.measure in version 0.18.\n",
      "  psnr.append(compare_psnr(img_gt, img_pred, data_range=1))\n",
      "/home/sunchenyu1993/generative_inpainting/evaluation.py:570: UserWarning: DEPRECATED: skimage.measure.compare_ssim has been moved to skimage.metrics.structural_similarity. It will be removed from skimage.measure in version 0.18.\n",
      "  ssim.append(compare_ssim(img_gt, img_pred, data_range=1, win_size=51))\n"
     ]
    },
    {
     "name": "stdout",
     "output_type": "stream",
     "text": [
      "100 images processed PSNR: 27.7024 SSIM: 0.9552 MAE: 0.0129\n",
      "200 images processed PSNR: 28.2229 SSIM: 0.9574 MAE: 0.0118\n",
      "300 images processed PSNR: 27.8433 SSIM: 0.9550 MAE: 0.0125\n",
      "calculate path1 statistics...\n",
      "calculate path2 statistics...\n",
      "calculate frechet distance...\n",
      "PSNR: 27.9178 PSNR Variance: 21.6320 SSIM: 0.9558 SSIM Variance: 0.0011 MAE: 0.0124 MAE Variance: 0.0001 FID: 24.5040\n"
     ]
    }
   ],
   "source": [
    "run evaluation.py --data-path ./Dataset/Testing/Origin --output-path ./Dataset/Testing/Results"
   ]
  },
  {
   "cell_type": "code",
   "execution_count": 70,
   "metadata": {},
   "outputs": [
    {
     "name": "stdout",
     "output_type": "stream",
     "text": [
      "calculate path1 statistics...\n",
      "calculate path2 statistics...\n",
      "calculate frechet distance...\n",
      "FID:  24.504\n"
     ]
    }
   ],
   "source": [
    "run fid_score.py --path ./Dataset/Testing/Origin ./Dataset/Testing/Results"
   ]
  },
  {
   "cell_type": "code",
   "execution_count": 30,
   "metadata": {},
   "outputs": [
    {
     "name": "stdout",
     "output_type": "stream",
     "text": [
      "Requirement already satisfied: sewar in /home/sunchenyu1993/miniconda3/lib/python3.6/site-packages (0.4.2)\n",
      "Requirement already satisfied: Pillow in /home/sunchenyu1993/miniconda3/lib/python3.6/site-packages (from sewar) (6.2.0)\n",
      "Requirement already satisfied: numpy in /home/sunchenyu1993/miniconda3/lib/python3.6/site-packages (from sewar) (1.17.2)\n",
      "Requirement already satisfied: scipy in /home/sunchenyu1993/miniconda3/lib/python3.6/site-packages (from sewar) (1.3.1)\n",
      "29.060804860597038\n",
      "0.9465348574435343\n"
     ]
    }
   ],
   "source": [
    "import numpy as np\n",
    "!pip install sewar\n",
    "from sewar.full_ref import psnr\n",
    "from sewar.full_ref import ssim\n",
    "import glob\n",
    "import cv2\n",
    "import tensorflow as tf\n",
    "filenames_org = glob.glob('./Dataset/Testing/Origin/*.*')\n",
    "filenames_res = glob.glob('./Dataset/Testing/Results/*.*')\n",
    "psnr_result = []\n",
    "ssim_result = []\n",
    "res = []\n",
    "for (a,b) in zip(filenames_org, filenames_res):\n",
    "    im1=cv2.imread(a)\n",
    "    im2=cv2.imread(b)\n",
    "    psnr_result.append(psnr(im1, im2))\n",
    "    ssim_result.append(ssim(im1, im2))\n",
    "psnr_generative=np.average(psnr_result)\n",
    "ssim_generative=np.average(ssim_result)\n",
    "print(psnr_generative)\n",
    "print(ssim_generative)\n"
   ]
  },
  {
   "cell_type": "code",
   "execution_count": 28,
   "metadata": {},
   "outputs": [
    {
     "data": {
      "text/plain": [
       "385"
      ]
     },
     "execution_count": 28,
     "metadata": {},
     "output_type": "execute_result"
    }
   ],
   "source": [
    "len(filenames_res)"
   ]
  },
  {
   "cell_type": "code",
   "execution_count": 17,
   "metadata": {},
   "outputs": [
    {
     "ename": "TypeError",
     "evalue": "Expected float32, got array([[[ 47,  47,  47],\n        [ 43,  43,  43],\n        [ 48,  48,  48],\n        ...,\n        [228, 228, 228],\n        [226, 226, 226],\n        [224, 224, 224]],\n\n       [[ 38,  38,  38],\n        [ 60,  60,  60],\n        [ 76,  76,  76],\n        ...,\n        [227, 227, 227],\n        [226, 226, 226],\n        [230, 230, 230]],\n\n       [[ 51,  51,  51],\n        [ 51,  51,  51],\n        [ 66,  66,  66],\n        ...,\n        [229, 229, 229],\n        [229, 229, 229],\n        [229, 229, 229]],\n\n       ...,\n\n       [[118, 118, 118],\n        [120, 120, 120],\n        [120, 120, 120],\n        ...,\n        [200, 200, 200],\n        [196, 196, 196],\n        [193, 193, 193]],\n\n       [[122, 122, 122],\n        [122, 122, 122],\n        [121, 121, 121],\n        ...,\n        [194, 194, 194],\n        [191, 191, 191],\n        [190, 190, 190]],\n\n       [[119, 119, 119],\n        [120, 120, 120],\n        [121, 121, 121],\n        ...,\n        [192, 192, 192],\n        [193, 193, 193],\n        [194, 194, 194]]], dtype=uint8) of type 'ndarray' instead.",
     "output_type": "error",
     "traceback": [
      "\u001b[0;31m---------------------------------------------------------------------------\u001b[0m",
      "\u001b[0;31mTypeError\u001b[0m                                 Traceback (most recent call last)",
      "\u001b[0;32m<ipython-input-17-1c700a42818b>\u001b[0m in \u001b[0;36m<module>\u001b[0;34m\u001b[0m\n\u001b[0;32m----> 1\u001b[0;31m \u001b[0mtf\u001b[0m\u001b[0;34m.\u001b[0m\u001b[0mconvert_to_tensor\u001b[0m\u001b[0;34m(\u001b[0m\u001b[0morg\u001b[0m\u001b[0;34m,\u001b[0m \u001b[0mdtype\u001b[0m\u001b[0;34m=\u001b[0m\u001b[0mtf\u001b[0m\u001b[0;34m.\u001b[0m\u001b[0mfloat32\u001b[0m\u001b[0;34m)\u001b[0m\u001b[0;34m\u001b[0m\u001b[0;34m\u001b[0m\u001b[0m\n\u001b[0m",
      "\u001b[0;32m~/miniconda3/lib/python3.6/site-packages/tensorflow/python/framework/ops.py\u001b[0m in \u001b[0;36mconvert_to_tensor\u001b[0;34m(value, dtype, name, preferred_dtype)\u001b[0m\n\u001b[1;32m    948\u001b[0m       \u001b[0mname\u001b[0m\u001b[0;34m=\u001b[0m\u001b[0mname\u001b[0m\u001b[0;34m,\u001b[0m\u001b[0;34m\u001b[0m\u001b[0;34m\u001b[0m\u001b[0m\n\u001b[1;32m    949\u001b[0m       \u001b[0mpreferred_dtype\u001b[0m\u001b[0;34m=\u001b[0m\u001b[0mpreferred_dtype\u001b[0m\u001b[0;34m,\u001b[0m\u001b[0;34m\u001b[0m\u001b[0;34m\u001b[0m\u001b[0m\n\u001b[0;32m--> 950\u001b[0;31m       as_ref=False)\n\u001b[0m\u001b[1;32m    951\u001b[0m \u001b[0;34m\u001b[0m\u001b[0m\n\u001b[1;32m    952\u001b[0m \u001b[0;34m\u001b[0m\u001b[0m\n",
      "\u001b[0;32m~/miniconda3/lib/python3.6/site-packages/tensorflow/python/framework/ops.py\u001b[0m in \u001b[0;36minternal_convert_to_tensor\u001b[0;34m(value, dtype, name, as_ref, preferred_dtype, ctx)\u001b[0m\n\u001b[1;32m   1038\u001b[0m \u001b[0;34m\u001b[0m\u001b[0m\n\u001b[1;32m   1039\u001b[0m     \u001b[0;32mif\u001b[0m \u001b[0mret\u001b[0m \u001b[0;32mis\u001b[0m \u001b[0;32mNone\u001b[0m\u001b[0;34m:\u001b[0m\u001b[0;34m\u001b[0m\u001b[0;34m\u001b[0m\u001b[0m\n\u001b[0;32m-> 1040\u001b[0;31m       \u001b[0mret\u001b[0m \u001b[0;34m=\u001b[0m \u001b[0mconversion_func\u001b[0m\u001b[0;34m(\u001b[0m\u001b[0mvalue\u001b[0m\u001b[0;34m,\u001b[0m \u001b[0mdtype\u001b[0m\u001b[0;34m=\u001b[0m\u001b[0mdtype\u001b[0m\u001b[0;34m,\u001b[0m \u001b[0mname\u001b[0m\u001b[0;34m=\u001b[0m\u001b[0mname\u001b[0m\u001b[0;34m,\u001b[0m \u001b[0mas_ref\u001b[0m\u001b[0;34m=\u001b[0m\u001b[0mas_ref\u001b[0m\u001b[0;34m)\u001b[0m\u001b[0;34m\u001b[0m\u001b[0;34m\u001b[0m\u001b[0m\n\u001b[0m\u001b[1;32m   1041\u001b[0m \u001b[0;34m\u001b[0m\u001b[0m\n\u001b[1;32m   1042\u001b[0m     \u001b[0;32mif\u001b[0m \u001b[0mret\u001b[0m \u001b[0;32mis\u001b[0m \u001b[0mNotImplemented\u001b[0m\u001b[0;34m:\u001b[0m\u001b[0;34m\u001b[0m\u001b[0;34m\u001b[0m\u001b[0m\n",
      "\u001b[0;32m~/miniconda3/lib/python3.6/site-packages/tensorflow/python/framework/constant_op.py\u001b[0m in \u001b[0;36m_constant_tensor_conversion_function\u001b[0;34m(v, dtype, name, as_ref)\u001b[0m\n\u001b[1;32m    233\u001b[0m                                          as_ref=False):\n\u001b[1;32m    234\u001b[0m   \u001b[0m_\u001b[0m \u001b[0;34m=\u001b[0m \u001b[0mas_ref\u001b[0m\u001b[0;34m\u001b[0m\u001b[0;34m\u001b[0m\u001b[0m\n\u001b[0;32m--> 235\u001b[0;31m   \u001b[0;32mreturn\u001b[0m \u001b[0mconstant\u001b[0m\u001b[0;34m(\u001b[0m\u001b[0mv\u001b[0m\u001b[0;34m,\u001b[0m \u001b[0mdtype\u001b[0m\u001b[0;34m=\u001b[0m\u001b[0mdtype\u001b[0m\u001b[0;34m,\u001b[0m \u001b[0mname\u001b[0m\u001b[0;34m=\u001b[0m\u001b[0mname\u001b[0m\u001b[0;34m)\u001b[0m\u001b[0;34m\u001b[0m\u001b[0;34m\u001b[0m\u001b[0m\n\u001b[0m\u001b[1;32m    236\u001b[0m \u001b[0;34m\u001b[0m\u001b[0m\n\u001b[1;32m    237\u001b[0m \u001b[0;34m\u001b[0m\u001b[0m\n",
      "\u001b[0;32m~/miniconda3/lib/python3.6/site-packages/tensorflow/python/framework/constant_op.py\u001b[0m in \u001b[0;36mconstant\u001b[0;34m(value, dtype, shape, name, verify_shape)\u001b[0m\n\u001b[1;32m    212\u001b[0m   tensor_value.tensor.CopyFrom(\n\u001b[1;32m    213\u001b[0m       tensor_util.make_tensor_proto(\n\u001b[0;32m--> 214\u001b[0;31m           value, dtype=dtype, shape=shape, verify_shape=verify_shape))\n\u001b[0m\u001b[1;32m    215\u001b[0m   \u001b[0mdtype_value\u001b[0m \u001b[0;34m=\u001b[0m \u001b[0mattr_value_pb2\u001b[0m\u001b[0;34m.\u001b[0m\u001b[0mAttrValue\u001b[0m\u001b[0;34m(\u001b[0m\u001b[0mtype\u001b[0m\u001b[0;34m=\u001b[0m\u001b[0mtensor_value\u001b[0m\u001b[0;34m.\u001b[0m\u001b[0mtensor\u001b[0m\u001b[0;34m.\u001b[0m\u001b[0mdtype\u001b[0m\u001b[0;34m)\u001b[0m\u001b[0;34m\u001b[0m\u001b[0;34m\u001b[0m\u001b[0m\n\u001b[1;32m    216\u001b[0m   const_tensor = g.create_op(\n",
      "\u001b[0;32m~/miniconda3/lib/python3.6/site-packages/tensorflow/python/framework/tensor_util.py\u001b[0m in \u001b[0;36mmake_tensor_proto\u001b[0;34m(values, dtype, shape, verify_shape)\u001b[0m\n\u001b[1;32m    431\u001b[0m       \u001b[0mnparray\u001b[0m \u001b[0;34m=\u001b[0m \u001b[0mnp\u001b[0m\u001b[0;34m.\u001b[0m\u001b[0mempty\u001b[0m\u001b[0;34m(\u001b[0m\u001b[0mshape\u001b[0m\u001b[0;34m,\u001b[0m \u001b[0mdtype\u001b[0m\u001b[0;34m=\u001b[0m\u001b[0mnp_dt\u001b[0m\u001b[0;34m)\u001b[0m\u001b[0;34m\u001b[0m\u001b[0;34m\u001b[0m\u001b[0m\n\u001b[1;32m    432\u001b[0m     \u001b[0;32melse\u001b[0m\u001b[0;34m:\u001b[0m\u001b[0;34m\u001b[0m\u001b[0;34m\u001b[0m\u001b[0m\n\u001b[0;32m--> 433\u001b[0;31m       \u001b[0m_AssertCompatible\u001b[0m\u001b[0;34m(\u001b[0m\u001b[0mvalues\u001b[0m\u001b[0;34m,\u001b[0m \u001b[0mdtype\u001b[0m\u001b[0;34m)\u001b[0m\u001b[0;34m\u001b[0m\u001b[0;34m\u001b[0m\u001b[0m\n\u001b[0m\u001b[1;32m    434\u001b[0m       \u001b[0mnparray\u001b[0m \u001b[0;34m=\u001b[0m \u001b[0mnp\u001b[0m\u001b[0;34m.\u001b[0m\u001b[0marray\u001b[0m\u001b[0;34m(\u001b[0m\u001b[0mvalues\u001b[0m\u001b[0;34m,\u001b[0m \u001b[0mdtype\u001b[0m\u001b[0;34m=\u001b[0m\u001b[0mnp_dt\u001b[0m\u001b[0;34m)\u001b[0m\u001b[0;34m\u001b[0m\u001b[0;34m\u001b[0m\u001b[0m\n\u001b[1;32m    435\u001b[0m       \u001b[0;31m# check to them.\u001b[0m\u001b[0;34m\u001b[0m\u001b[0;34m\u001b[0m\u001b[0;34m\u001b[0m\u001b[0m\n",
      "\u001b[0;32m~/miniconda3/lib/python3.6/site-packages/tensorflow/python/framework/tensor_util.py\u001b[0m in \u001b[0;36m_AssertCompatible\u001b[0;34m(values, dtype)\u001b[0m\n\u001b[1;32m    342\u001b[0m     \u001b[0;32melse\u001b[0m\u001b[0;34m:\u001b[0m\u001b[0;34m\u001b[0m\u001b[0;34m\u001b[0m\u001b[0m\n\u001b[1;32m    343\u001b[0m       raise TypeError(\"Expected %s, got %s of type '%s' instead.\" %\n\u001b[0;32m--> 344\u001b[0;31m                       (dtype.name, repr(mismatch), type(mismatch).__name__))\n\u001b[0m\u001b[1;32m    345\u001b[0m \u001b[0;34m\u001b[0m\u001b[0m\n\u001b[1;32m    346\u001b[0m \u001b[0;34m\u001b[0m\u001b[0m\n",
      "\u001b[0;31mTypeError\u001b[0m: Expected float32, got array([[[ 47,  47,  47],\n        [ 43,  43,  43],\n        [ 48,  48,  48],\n        ...,\n        [228, 228, 228],\n        [226, 226, 226],\n        [224, 224, 224]],\n\n       [[ 38,  38,  38],\n        [ 60,  60,  60],\n        [ 76,  76,  76],\n        ...,\n        [227, 227, 227],\n        [226, 226, 226],\n        [230, 230, 230]],\n\n       [[ 51,  51,  51],\n        [ 51,  51,  51],\n        [ 66,  66,  66],\n        ...,\n        [229, 229, 229],\n        [229, 229, 229],\n        [229, 229, 229]],\n\n       ...,\n\n       [[118, 118, 118],\n        [120, 120, 120],\n        [120, 120, 120],\n        ...,\n        [200, 200, 200],\n        [196, 196, 196],\n        [193, 193, 193]],\n\n       [[122, 122, 122],\n        [122, 122, 122],\n        [121, 121, 121],\n        ...,\n        [194, 194, 194],\n        [191, 191, 191],\n        [190, 190, 190]],\n\n       [[119, 119, 119],\n        [120, 120, 120],\n        [121, 121, 121],\n        ...,\n        [192, 192, 192],\n        [193, 193, 193],\n        [194, 194, 194]]], dtype=uint8) of type 'ndarray' instead."
     ]
    }
   ],
   "source": [
    "tf.convert_to_tensor(org, dtype=tf.float32)"
   ]
  },
  {
   "cell_type": "code",
   "execution_count": null,
   "metadata": {},
   "outputs": [],
   "source": []
  }
 ],
 "metadata": {
  "kernelspec": {
   "display_name": "Python 3",
   "language": "python",
   "name": "python3"
  },
  "language_info": {
   "codemirror_mode": {
    "name": "ipython",
    "version": 3
   },
   "file_extension": ".py",
   "mimetype": "text/x-python",
   "name": "python",
   "nbconvert_exporter": "python",
   "pygments_lexer": "ipython3",
   "version": "3.6.9"
  }
 },
 "nbformat": 4,
 "nbformat_minor": 2
}
